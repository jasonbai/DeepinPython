{
 "cells": [
  {
   "cell_type": "markdown",
   "metadata": {},
   "source": [
    "大多数程序目的是解决最终用户的问题，为此通常需要从用户那里获得一些信息。例如，假设有人要判断自己是否到了投票的年龄，要编写回答这个问题的程序，就需要知道用户的年龄，这样才能给出答案。因此，这种程序需要让用户 **输入** 其年龄，再将其与投票年龄进行比较，以判断用户是否到了投票的年龄，再给出结果。"
   ]
  },
  {
   "cell_type": "markdown",
   "metadata": {},
   "source": [
    "### 1. 函数input（）的工作原理\n",
    "\n",
    "函数input（）让程序暂停运行，等待用户输入一些文本。获取用户输入后，Python将其存储在一个变量中，以方便你使用。"
   ]
  },
  {
   "cell_type": "code",
   "execution_count": 1,
   "metadata": {},
   "outputs": [
    {
     "name": "stdout",
     "output_type": "stream",
     "text": [
      "Tell me something , and I will repeat it back to you:jasonbai\n",
      "jasonbai\n"
     ]
    }
   ],
   "source": [
    "message = input(\"Tell me something , and I will repeat it back to you:\")\n",
    "print(message)"
   ]
  },
  {
   "cell_type": "markdown",
   "metadata": {},
   "source": [
    "### 2. 编写清晰的程序\n",
    "每当你使用欧冠input（）时，都应制定清晰而易于明白的提示，准确第指出你希望用户提供什么样的信息--指出用户该输入任何信息的提示都行。"
   ]
  },
  {
   "cell_type": "code",
   "execution_count": 2,
   "metadata": {},
   "outputs": [
    {
     "name": "stdout",
     "output_type": "stream",
     "text": [
      "Please enter your name :Jasonbai\n",
      "Hello, Jasonbai!\n"
     ]
    }
   ],
   "source": [
    "name = input(\"Please enter your name :\")\n",
    "print(\"Hello, \" + name + \"!\")"
   ]
  },
  {
   "cell_type": "code",
   "execution_count": 3,
   "metadata": {},
   "outputs": [
    {
     "name": "stdout",
     "output_type": "stream",
     "text": [
      "If you tell us who you are ,we can personalize the messages you see.\n",
      "what is your first name?jasonbai\n",
      "\n",
      "Hello, jasonbai!\n"
     ]
    }
   ],
   "source": [
    "prompt = \"If you tell us who you are ,we can personalize the messages you see.\"\n",
    "prompt +=\"\\nwhat is your first name?\"\n",
    "\n",
    "name = input(prompt)\n",
    "print(\"\\nHello, \" + name + \"!\")"
   ]
  },
  {
   "cell_type": "markdown",
   "metadata": {},
   "source": [
    "### 3. 使用int() 来获取数值输入"
   ]
  },
  {
   "cell_type": "code",
   "execution_count": null,
   "metadata": {
    "collapsed": true
   },
   "outputs": [],
   "source": [
    "使用函数input()时，Python将用户输入解读为字符串。"
   ]
  },
  {
   "cell_type": "code",
   "execution_count": 4,
   "metadata": {},
   "outputs": [
    {
     "name": "stdout",
     "output_type": "stream",
     "text": [
      "How old are you?21\n"
     ]
    }
   ],
   "source": [
    "age = input(\"How old are you?\")"
   ]
  },
  {
   "cell_type": "code",
   "execution_count": 5,
   "metadata": {},
   "outputs": [
    {
     "data": {
      "text/plain": [
       "'21'"
      ]
     },
     "execution_count": 5,
     "metadata": {},
     "output_type": "execute_result"
    }
   ],
   "source": [
    "age"
   ]
  },
  {
   "cell_type": "markdown",
   "metadata": {},
   "source": [
    "用户输入的是数字21，但我们请求Python提供变量age的值时，它返回的是'21'  --- 用户输入的数值的字符串表示。我们这面知道Python将输入解读成了字符串呢？因为这个数字用引号括其了。如果我们只想打印输入，这一点问题都诶有；但如果你试图将输入作为数字使用，就回引发错误："
   ]
  },
  {
   "cell_type": "code",
   "execution_count": 6,
   "metadata": {},
   "outputs": [
    {
     "name": "stdout",
     "output_type": "stream",
     "text": [
      "How old you?21\n"
     ]
    }
   ],
   "source": [
    "age = input(\"How old you?\")"
   ]
  },
  {
   "cell_type": "code",
   "execution_count": 7,
   "metadata": {},
   "outputs": [
    {
     "ename": "TypeError",
     "evalue": "'>=' not supported between instances of 'str' and 'int'",
     "output_type": "error",
     "traceback": [
      "\u001b[1;31m---------------------------------------------------------------------------\u001b[0m",
      "\u001b[1;31mTypeError\u001b[0m                                 Traceback (most recent call last)",
      "\u001b[1;32m<ipython-input-7-4ce6028355cc>\u001b[0m in \u001b[0;36m<module>\u001b[1;34m()\u001b[0m\n\u001b[1;32m----> 1\u001b[1;33m \u001b[0mage\u001b[0m \u001b[1;33m>=\u001b[0m \u001b[1;36m18\u001b[0m\u001b[1;33m\u001b[0m\u001b[0m\n\u001b[0m",
      "\u001b[1;31mTypeError\u001b[0m: '>=' not supported between instances of 'str' and 'int'"
     ]
    }
   ],
   "source": [
    "age >= 18"
   ]
  },
  {
   "cell_type": "markdown",
   "metadata": {},
   "source": [
    "为解决这个问题，可使用函数int(),它让Python将输入视为数值。函数int()将数字的字符串表示转换为数值表示，如下所示："
   ]
  },
  {
   "cell_type": "code",
   "execution_count": 9,
   "metadata": {},
   "outputs": [
    {
     "name": "stdout",
     "output_type": "stream",
     "text": [
      "How old are you?21\n"
     ]
    }
   ],
   "source": [
    "age = input(\"How old are you?\")"
   ]
  },
  {
   "cell_type": "code",
   "execution_count": 10,
   "metadata": {
    "collapsed": true
   },
   "outputs": [],
   "source": [
    "age = int(age)"
   ]
  },
  {
   "cell_type": "code",
   "execution_count": 11,
   "metadata": {},
   "outputs": [
    {
     "data": {
      "text/plain": [
       "True"
      ]
     },
     "execution_count": 11,
     "metadata": {},
     "output_type": "execute_result"
    }
   ],
   "source": [
    "age >= 18"
   ]
  },
  {
   "cell_type": "markdown",
   "metadata": {},
   "source": [
    "### 3. 求模运算符"
   ]
  },
  {
   "cell_type": "markdown",
   "metadata": {},
   "source": [
    "处理数值信息是，求模运算符（%） 是一个很有用的工具，它将两个数相除并返回余数："
   ]
  },
  {
   "cell_type": "code",
   "execution_count": 12,
   "metadata": {},
   "outputs": [
    {
     "data": {
      "text/plain": [
       "1"
      ]
     },
     "execution_count": 12,
     "metadata": {},
     "output_type": "execute_result"
    }
   ],
   "source": [
    "4 % 3"
   ]
  },
  {
   "cell_type": "code",
   "execution_count": 13,
   "metadata": {},
   "outputs": [
    {
     "data": {
      "text/plain": [
       "2"
      ]
     },
     "execution_count": 13,
     "metadata": {},
     "output_type": "execute_result"
    }
   ],
   "source": [
    "5 % 3"
   ]
  },
  {
   "cell_type": "code",
   "execution_count": 14,
   "metadata": {},
   "outputs": [
    {
     "data": {
      "text/plain": [
       "0"
      ]
     },
     "execution_count": 14,
     "metadata": {},
     "output_type": "execute_result"
    }
   ],
   "source": [
    "6 % 3"
   ]
  },
  {
   "cell_type": "code",
   "execution_count": 15,
   "metadata": {},
   "outputs": [
    {
     "data": {
      "text/plain": [
       "1"
      ]
     },
     "execution_count": 15,
     "metadata": {},
     "output_type": "execute_result"
    }
   ],
   "source": [
    "7 % 3"
   ]
  },
  {
   "cell_type": "markdown",
   "metadata": {},
   "source": [
    "求模运算符不会指出一个数是另一个数的多少倍，而只指出余数是多少。\n",
    "\n",
    "如果一个数可悲另一个数整除，余数就为0，因此求模运算符将返回0.你可利用这一点来判断一个数是奇数还是偶数："
   ]
  },
  {
   "cell_type": "code",
   "execution_count": 18,
   "metadata": {},
   "outputs": [
    {
     "name": "stdout",
     "output_type": "stream",
     "text": [
      "Enter a number , and I'll tell you if it's even or odd:19\n",
      "\n",
      "The number 19 is odd.\n"
     ]
    }
   ],
   "source": [
    "number = input(\"Enter a number , and I'll tell you if it's even or odd:\")\n",
    "number = int(number)\n",
    "\n",
    "if number % 2 == 0 :\n",
    "    print (\"\\nThe number \" + str(number) + \" is even.\")\n",
    "else:\n",
    "    print(\"\\nThe number \" + str(number) + \" is odd.\")"
   ]
  },
  {
   "cell_type": "markdown",
   "metadata": {},
   "source": [
    "### 4.在Python 2.7中获取输入 "
   ]
  },
  {
   "cell_type": "markdown",
   "metadata": {},
   "source": [
    "如果你使用的是Python 2.7，应使用函数raw_input( ) 来提示用户输入。这个函数与Python 3中的input() 一样，也将输入解读为字符串。 Python 2.7也包含函数input() ，但它将用户输入解读为Python代码，并尝试运行它们。因此，最好的结果是出现错误，指出Python不明白输入的代码；而最糟的结果是，将运行 你原本无意运行的代码。如果你使用的是Python 2.7，请使用raw_input() 而不是input() 来获取输入。\n"
   ]
  },
  {
   "cell_type": "markdown",
   "metadata": {},
   "source": [
    "### 5. while 循环简介\n",
    "\n",
    "for 循环用于针对集合中每个元素都一个代码块，而while循环不断运行，直到制定的条件不满足为止。"
   ]
  },
  {
   "cell_type": "code",
   "execution_count": 1,
   "metadata": {},
   "outputs": [
    {
     "name": "stdout",
     "output_type": "stream",
     "text": [
      "1\n",
      "2\n",
      "3\n",
      "4\n",
      "5\n"
     ]
    }
   ],
   "source": [
    "current_number = 1\n",
    "while current_number <= 5 :\n",
    "    print(current_number)\n",
    "    current_number += 1 "
   ]
  },
  {
   "cell_type": "markdown",
   "metadata": {},
   "source": [
    "### 6. 让用户选择何时退出\n",
    "可使用while循环让程序在用户愿意时不断地运行"
   ]
  },
  {
   "cell_type": "code",
   "execution_count": 5,
   "metadata": {},
   "outputs": [
    {
     "name": "stdout",
     "output_type": "stream",
     "text": [
      "\n",
      " Tell me something, and I will repeat it back to you :\n",
      "Enter 'quit' to end the program.haha\n",
      "haha\n",
      "\n",
      " Tell me something, and I will repeat it back to you :\n",
      "Enter 'quit' to end the program.nihao\n",
      "nihao\n",
      "\n",
      " Tell me something, and I will repeat it back to you :\n",
      "Enter 'quit' to end the program.你好\n",
      "你好\n",
      "\n",
      " Tell me something, and I will repeat it back to you :\n",
      "Enter 'quit' to end the program.quit\n",
      "quit\n"
     ]
    }
   ],
   "source": [
    "prompt = \"\\n Tell me something, and I will repeat it back to you :\"\n",
    "prompt += \"\\nEnter 'quit' to end the program.\"\n",
    "\n",
    "message = \"\"\n",
    "while message != 'quit' :\n",
    "    message = input(prompt)\n",
    "    print(message)"
   ]
  },
  {
   "cell_type": "markdown",
   "metadata": {},
   "source": [
    "这个循环程序很好，但是有个问题，quit也被打印出来，使用我们用if条件将其去除。"
   ]
  },
  {
   "cell_type": "code",
   "execution_count": 10,
   "metadata": {},
   "outputs": [
    {
     "name": "stdout",
     "output_type": "stream",
     "text": [
      "\n",
      " Tell me something, and I will repeat it back to you :\n",
      "Enter 'quit' to end the program.hi\n",
      "hi\n",
      "\n",
      " Tell me something, and I will repeat it back to you :\n",
      "Enter 'quit' to end the program.不知道\n",
      "不知道\n",
      "\n",
      " Tell me something, and I will repeat it back to you :\n",
      "Enter 'quit' to end the program.4\n",
      "4\n",
      "\n",
      " Tell me something, and I will repeat it back to you :\n",
      "Enter 'quit' to end the program.quit\n"
     ]
    }
   ],
   "source": [
    "prompt = \"\\n Tell me something, and I will repeat it back to you :\"\n",
    "prompt += \"\\nEnter 'quit' to end the program.\"\n",
    "\n",
    "message = \"\"\n",
    "while message != 'quit' :\n",
    "    message = input(prompt)\n",
    "    \n",
    "    if message != 'quit':\n",
    "        print(message)"
   ]
  },
  {
   "cell_type": "markdown",
   "metadata": {},
   "source": [
    "### 7. 使用标志"
   ]
  },
  {
   "cell_type": "code",
   "execution_count": 12,
   "metadata": {},
   "outputs": [
    {
     "name": "stdout",
     "output_type": "stream",
     "text": [
      "\n",
      " Tell me something, and I will repeat it back to you :\n",
      "Enter 'quit' to end the program.a\n",
      "a\n",
      "\n",
      " Tell me something, and I will repeat it back to you :\n",
      "Enter 'quit' to end the program.d\n",
      "d\n",
      "\n",
      " Tell me something, and I will repeat it back to you :\n",
      "Enter 'quit' to end the program.quit\n"
     ]
    }
   ],
   "source": [
    "prompt = \"\\n Tell me something, and I will repeat it back to you :\"\n",
    "prompt += \"\\nEnter 'quit' to end the program.\"\n",
    "\n",
    "active = True\n",
    "while active:\n",
    "    message = input(prompt)\n",
    "    \n",
    "    if message == 'quit':\n",
    "        active = False\n",
    "    else:\n",
    "        print(message)"
   ]
  },
  {
   "cell_type": "markdown",
   "metadata": {},
   "source": [
    "我们将变量active设置成True,让程序最初处于活动状态。这样做简化了while语句，因为不需要在其中做任何比较---相关的逻辑由程序的其他部分处理。只要变量active 为True ，循环就将继续运行。\n",
    "\n",
    "在while循环中，我们在用户输入后使用一条if语句来检查变量message的值。如果用户输入的‘quit’，我们就将变量active设置为False，这将导致while循环不再继续执行。如果用户输入的不是‘quit’，我们就将输入作为一条消息打印出来。\n",
    "\n",
    "这个程序的输出与前一个示例相同。在前一个示例中，我们将条件测试直接放在了while语句中，而在这个程序中，我们使用了一个标志来指出程序是否处在活动状态，这样如国药添加测试（elif语句）以检查是否发生了其他导致active变为false的事件，将很容易。在复杂的程序中，如很多事件都会导致程序运行的游戏中，标志很有用：在其中的任何一个事件导致活动标志变成False时，主游戏循环将退出，此时可显示一条游戏结束消息，并让用户选择是否要重新玩。"
   ]
  },
  {
   "cell_type": "markdown",
   "metadata": {},
   "source": [
    "### 8. 使用break退出循环\n",
    "要立刻退出while循环，不再运行循环中余下的代码，也不管条件测试的结果如何，可使用break语句。break语句用于控制程序流，可使用它来控制哪些代码将执行，哪些代码不执行，从而让程序按你的要求执行你要执行的代码。"
   ]
  },
  {
   "cell_type": "code",
   "execution_count": 13,
   "metadata": {},
   "outputs": [
    {
     "name": "stdout",
     "output_type": "stream",
     "text": [
      "\n",
      "Please enter the name of a city you have visited:\n",
      "(Enter 'quit' when you are finished.)fa\n",
      "I'd love to go to Fa!\n",
      "\n",
      "Please enter the name of a city you have visited:\n",
      "(Enter 'quit' when you are finished.)ads\n",
      "I'd love to go to Ads!\n",
      "\n",
      "Please enter the name of a city you have visited:\n",
      "(Enter 'quit' when you are finished.)quit\n"
     ]
    }
   ],
   "source": [
    "prompt = \"\\nPlease enter the name of a city you have visited:\"\n",
    "prompt +=\"\\n(Enter 'quit' when you are finished.)\"\n",
    "\n",
    "while True:\n",
    "    city = input(prompt)\n",
    "    \n",
    "    if city == 'quit':\n",
    "        break\n",
    "    else:\n",
    "        print(\"I'd love to go to \" + city.title() + \"!\")"
   ]
  },
  {
   "cell_type": "markdown",
   "metadata": {},
   "source": [
    "在任何Python循环中都可以使用break语句。例如，可使用break语句来退出列表或字典的for循环。"
   ]
  },
  {
   "cell_type": "markdown",
   "metadata": {},
   "source": [
    "### 9. 在循环中使用continue"
   ]
  },
  {
   "cell_type": "markdown",
   "metadata": {},
   "source": [
    "要返回到循环开头，并根据条件测试结果决定是否继续执行循环，可使用continue语句，它不像break语句那样不再执行余下的代码并退出整个循环。"
   ]
  },
  {
   "cell_type": "code",
   "execution_count": 15,
   "metadata": {},
   "outputs": [
    {
     "name": "stdout",
     "output_type": "stream",
     "text": [
      "1\n",
      "3\n",
      "5\n",
      "7\n",
      "9\n"
     ]
    }
   ],
   "source": [
    "current_number = 0 \n",
    "while current_number < 10 :\n",
    "    current_number +=1\n",
    "    if current_number % 2 == 0 :\n",
    "        continue\n",
    "        \n",
    "    print(current_number)"
   ]
  },
  {
   "cell_type": "markdown",
   "metadata": {},
   "source": [
    "### 10. 避免无限循环\n",
    "每个while循环都必须有停止的途径，这样才不会没有没了地执行下去。"
   ]
  },
  {
   "cell_type": "code",
   "execution_count": 16,
   "metadata": {},
   "outputs": [
    {
     "name": "stdout",
     "output_type": "stream",
     "text": [
      "1\n",
      "2\n",
      "3\n",
      "4\n",
      "5\n"
     ]
    }
   ],
   "source": [
    "x = 1 \n",
    "while x <=5:\n",
    "    print(x)\n",
    "    x +=1"
   ]
  },
  {
   "cell_type": "markdown",
   "metadata": {},
   "source": [
    "如果不小心都掉代码 x +=1 ，这个循环将没完没了地运行："
   ]
  },
  {
   "cell_type": "markdown",
   "metadata": {},
   "source": [
    "### 11. 使用while循环来处理列表示字典"
   ]
  },
  {
   "cell_type": "markdown",
   "metadata": {},
   "source": [
    "到目前为止，我们每次都处理了一项用户信息：获取用户的输入，再将输入打印来出来或作应答；循环再次运行时，我们获悉另一个输入值并作出响应。然后，要记录大量的用户和信息，需要在while循环中使用列表和字典。\n",
    "\n",
    "for循环是一种遍历列表的有效方式，但在for循环中不应该修改列表，否则将导致python难以跟中其中的元素。要在遍历列表的同时对其进行修改，可使用while循环。通过将while循环同里诶博爱和字典结合起来使用，可手机、存储并组织大量输入，供以后查看和显示。"
   ]
  },
  {
   "cell_type": "markdown",
   "metadata": {},
   "source": [
    "#### 11.1 在列表之间移动元素"
   ]
  },
  {
   "cell_type": "code",
   "execution_count": null,
   "metadata": {
    "collapsed": true
   },
   "outputs": [],
   "source": [
    "# 首先，创建一个待验证用户列表\n",
    "# 和一个用于存储已验证用户的空列表\n",
    "unconfirmed_users = ['alice','brain','candace']\n",
    "confirmed_users = []\n",
    "\n",
    "# 验证每个用户，直到没有未验证用户为止\n",
    "# 将每个经过验证的列表都移到已验证用户列表中\n",
    "\n",
    "while unconfirmed_users:\n",
    "    current_user = unconfirmed_users.pop()"
   ]
  }
 ],
 "metadata": {
  "kernelspec": {
   "display_name": "Python 3",
   "language": "python",
   "name": "python3"
  },
  "language_info": {
   "codemirror_mode": {
    "name": "ipython",
    "version": 3
   },
   "file_extension": ".py",
   "mimetype": "text/x-python",
   "name": "python",
   "nbconvert_exporter": "python",
   "pygments_lexer": "ipython3",
   "version": "3.6.2"
  }
 },
 "nbformat": 4,
 "nbformat_minor": 2
}
