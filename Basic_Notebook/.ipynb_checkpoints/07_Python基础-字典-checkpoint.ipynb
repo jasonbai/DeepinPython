{
 "cells": [
  {
   "cell_type": "markdown",
   "metadata": {},
   "source": [
    "字典能够对真实的物体建模，你可以创建一个表示人的字典，然后想在其中存储多少信息就存储多少：姓名、年龄、地址、职业以及要描述的任何方面。你还能存储任意两种相关的信息，如一系列单词及其含义，一系列人名及其喜欢的数字，已经一系列山脉及其海拔等。"
   ]
  },
  {
   "cell_type": "markdown",
   "metadata": {},
   "source": [
    "### 1.一个简单的字典"
   ]
  },
  {
   "cell_type": "markdown",
   "metadata": {},
   "source": [
    "来看一个游戏，其中包括一些外星人，这些外星人的颜色和点数各不相同。"
   ]
  },
  {
   "cell_type": "code",
   "execution_count": 2,
   "metadata": {},
   "outputs": [
    {
     "name": "stdout",
     "output_type": "stream",
     "text": [
      "green\n",
      "5\n"
     ]
    }
   ],
   "source": [
    "alien_0 = {'color':'green','points':5}\n",
    "print(alien_0['color'])\n",
    "print(alien_0['points'])"
   ]
  },
  {
   "cell_type": "markdown",
   "metadata": {},
   "source": [
    "### 2. 使用字典"
   ]
  },
  {
   "cell_type": "markdown",
   "metadata": {},
   "source": [
    "在Python中，字典是一系列**键--值对** 。每个**键**都与一个值相关联，你可以使用键来访问与之关联的值。与键相关的值可以是数字、字符串、列表乃至字典。事实上，可将任何在Python对象用作字典中的值。\n",
    "\n",
    "在Python中，字典用放在花括号{}中的一系列键--值对表述。"
   ]
  },
  {
   "cell_type": "markdown",
   "metadata": {},
   "source": [
    "### 3. 访问字典中的值"
   ]
  },
  {
   "cell_type": "markdown",
   "metadata": {},
   "source": [
    "要获取与键相关联的值，可一次指定字典名和放在方括号内的键。"
   ]
  },
  {
   "cell_type": "code",
   "execution_count": 5,
   "metadata": {},
   "outputs": [
    {
     "name": "stdout",
     "output_type": "stream",
     "text": [
      "You just earned 5 points!\n"
     ]
    }
   ],
   "source": [
    "alien_0 = {'color':'green','points':5}\n",
    "\n",
    "new_points = alien_0['points']\n",
    "print(\"You just earned \" + str(new_points) + \" points!\")"
   ]
  },
  {
   "cell_type": "markdown",
   "metadata": {},
   "source": [
    "### 4. 添加键--值对"
   ]
  },
  {
   "cell_type": "markdown",
   "metadata": {},
   "source": [
    "字典是一种动态结构，可随时在其中添加键-值对。"
   ]
  },
  {
   "cell_type": "code",
   "execution_count": 6,
   "metadata": {},
   "outputs": [
    {
     "name": "stdout",
     "output_type": "stream",
     "text": [
      "{'color': 'green', 'points': 5}\n",
      "{'color': 'green', 'points': 5, 'x_position': 0, 'y_position': 25}\n"
     ]
    }
   ],
   "source": [
    "alien_0 = {'color':'green','points':5}\n",
    "print(alien_0)\n",
    "\n",
    "alien_0['x_position'] = 0 \n",
    "alien_0['y_position'] = 25\n",
    "print(alien_0)"
   ]
  },
  {
   "cell_type": "markdown",
   "metadata": {},
   "source": [
    "**注意** Python并不关系键值对的顺序，只关心键值之间的关系。"
   ]
  },
  {
   "cell_type": "code",
   "execution_count": 13,
   "metadata": {},
   "outputs": [
    {
     "name": "stdout",
     "output_type": "stream",
     "text": [
      "申请人的工作单位在同产品同机构下的申请人的工作单位重复次数为: 3\n"
     ]
    }
   ],
   "source": [
    "# 定义申请人的工作单位\n",
    "workaddress = \"晋消\"\n",
    "\n",
    "# 定义同产品同机构下的申请人的工作单位列表\n",
    "\n",
    "addresslist = [\"晋消\",\"腾讯\",\"阿里巴巴\",\"百度\",\"京东\",\"晋消\",\"晋消\"]\n",
    "\n",
    "# 定义单位相同的变量\n",
    "\n",
    "addresstimes = 0\n",
    "for address in addresslist :\n",
    "    if address == x:\n",
    "        addresstimes = addresstimes + 1\n",
    "        \n",
    "print(\"申请人的工作单位在同产品同机构下的申请人的工作单位重复次数为: \" + str(addresstimes))\n"
   ]
  }
 ],
 "metadata": {
  "kernelspec": {
   "display_name": "Python 3",
   "language": "python",
   "name": "python3"
  },
  "language_info": {
   "codemirror_mode": {
    "name": "ipython",
    "version": 3
   },
   "file_extension": ".py",
   "mimetype": "text/x-python",
   "name": "python",
   "nbconvert_exporter": "python",
   "pygments_lexer": "ipython3",
   "version": "3.6.3"
  }
 },
 "nbformat": 4,
 "nbformat_minor": 2
}
