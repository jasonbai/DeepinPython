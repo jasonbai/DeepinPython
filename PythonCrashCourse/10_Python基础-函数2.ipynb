{
 "cells": [
  {
   "cell_type": "markdown",
   "metadata": {},
   "source": [
    "#### 3.5 传递列表"
   ]
  },
  {
   "cell_type": "markdown",
   "metadata": {},
   "source": [
    "经常发现，向函数传递列表很有用，这种列表包含的可能是名字、数字或更复杂的对象（如字典）。将列表传递函数后，函数就能直接访问其内容。下面使用函数来访问其内容。下面使用函数来提高处理列表的效率。\n",
    "\n",
    "假设有一个用户列表，我们要问候其中每个用户。下面示例将一个名字列表传递给一个名为greet_users()的函数。这个函数列表问候列表中的每一个："
   ]
  },
  {
   "cell_type": "code",
   "execution_count": 3,
   "metadata": {},
   "outputs": [
    {
     "name": "stdout",
     "output_type": "stream",
     "text": [
      "Hello, Hannah!\n",
      "Hello, Ty!\n",
      "Hello, Margot!\n"
     ]
    }
   ],
   "source": [
    "def greet_users(names):\n",
    "    for name in names:\n",
    "        msg = \"Hello, \" + name.title() + \"!\"\n",
    "        print(msg)\n",
    "\n",
    "usernames = ['hannah', 'ty', 'margot']\n",
    "greet_users(usernames)"
   ]
  },
  {
   "cell_type": "markdown",
   "metadata": {},
   "source": [
    "我们将greet_users()定义成接受一个名字列表，并将其存储在形参names中。这个函数遍历收到的列表，并对其中的每个用户都打印一条问候语。"
   ]
  },
  {
   "cell_type": "markdown",
   "metadata": {},
   "source": [
    "#### 3.5.1 在函数中修改列表"
   ]
  },
  {
   "cell_type": "markdown",
   "metadata": {},
   "source": [
    "将列表传递给函数后，函数就可以对其进行修改。在函数中对这个列表所做的任何修改都是永久性的，这让你能够高效地处理大量数据。\n",
    "来看一家为用户提交的设计制作3D打印模型的公司。需要打印的设计存储在一个列表中，打印后移到另一个列表中。下面是在不使用函数的情况下模拟这个过程的代码："
   ]
  },
  {
   "cell_type": "code",
   "execution_count": 1,
   "metadata": {},
   "outputs": [
    {
     "name": "stdout",
     "output_type": "stream",
     "text": [
      "Printing model: dodcahedron\n",
      "Printing model: robot pendant\n",
      "Printing model: iphone case \n",
      "\n",
      "The following models have been printed: \n",
      "dodcahedron\n",
      "robot pendant\n",
      "iphone case \n"
     ]
    }
   ],
   "source": [
    "# 首先创建一个列表，其中包含一些要打印的设计\n",
    "unprinted_designs = ['iphone case ','robot pendant','dodcahedron']\n",
    "completed_models = []\n",
    "\n",
    "# 模拟打印每个设计，知道没有未打印的设计为止\n",
    "# 打印每个设计后，都将其移到列表completed_models 中\n",
    "\n",
    "while unprinted_designs:\n",
    "    current_design = unprinted_designs.pop()\n",
    "    \n",
    "    # 模拟根据设计制作3D打印模型的过程\n",
    "    print(\"Printing model: \" + current_design)\n",
    "    completed_models.append(current_design)\n",
    "\n",
    "# 显示打印好的模型\n",
    "print(\"\\nThe following models have been printed: \")\n",
    "for completed_model in completed_models:\n",
    "    print(completed_model)"
   ]
  },
  {
   "cell_type": "markdown",
   "metadata": {},
   "source": [
    "这个程序首先创建了一个需要打印的设计列表，还创建了一个名为completed_models的空列表，每个设计打印都将移到这个列表中。只要列表unprinted_desgins 中还有设计，while循环就模拟打印设计的过程：从该列表末尾删除一个设计，将其存储到变量current_design中，并显示一条消息，指出正在打印当前的设计，再将该设计加入到列表completed_models中。循环结束后，显示已打印的所有设计。"
   ]
  },
  {
   "cell_type": "markdown",
   "metadata": {},
   "source": [
    "为重新组织这些代码，我们可编写两个函数，每个都做一件具体工作。大部分代码都原来相同，只是效率更高。第一个函数将负责打印设计的工作，而第二个将概述打印了哪些设计："
   ]
  },
  {
   "cell_type": "code",
   "execution_count": 5,
   "metadata": {},
   "outputs": [
    {
     "name": "stdout",
     "output_type": "stream",
     "text": [
      "Printing model: dodecahedron\n",
      "Printing model: robot pendant\n",
      "Printing model: iphone case\n",
      "\n",
      "The following models have been printed: \n",
      "dodecahedron\n",
      "robot pendant\n",
      "iphone case\n"
     ]
    }
   ],
   "source": [
    "def print_models(unprinted_designs,completed_models):\n",
    "    while unprinted_designs:\n",
    "        current_design = unprinted_designs.pop()\n",
    "        \n",
    "        print(\"Printing model: \" + current_design)\n",
    "        completed_models.append(current_design)\n",
    "\n",
    "def show_completed_models(completed_models):\n",
    "    print(\"\\nThe following models have been printed: \")\n",
    "    for completed_model in completed_models:\n",
    "        print(completed_model)\n",
    "\n",
    "unprinted_designs = ['iphone case','robot pendant','dodecahedron']\n",
    "completed_models = []\n",
    "\n",
    "print_models(unprinted_designs,completed_models)\n",
    "show_completed_models(completed_models)\n"
   ]
  },
  {
   "cell_type": "markdown",
   "metadata": {},
   "source": [
    "我们定义了函数print_models(),它包含两个形参：一个需要打印的设计列表和一个打印好的模型列表。给定这两个列表，这个函数模拟打印每个设计的过程：将设计逐个地从未打印的设计列表中取出，并加入到打印好的模型列表中。\n",
    "\n",
    "我们定了函数show_completed_models(),它包含一个形参：打印好的模型列表。给定这个列表，函数show_completed_models()显示打印出来的每个模型的名称。\n",
    "\n",
    "这个程序的输出与未使用函数的版本相同，但组织更为有序。完成大部分工作的代码都移到了两个函数中，让主程序更容易理解。只要看看主程序，你就知道这个程序的功能容易看清得多。"
   ]
  },
  {
   "cell_type": "markdown",
   "metadata": {},
   "source": [
    "我们创建了一个未打印的设计列表，还创建了一个空列表，用于存储打印好的模型。接下来由于我们定义了两个函数，因此只需调用它们并传入正确的实参即可。我们调用print_models()并向它传递列表：向预期的一样，print_models()模拟打印的过程。接下来，我们调用show_completed_models(),并讲打印好的模型列表传递给它，让其能够指出打印了哪些模型。描述性函数名让别人阅读这些代码时候也能够明白，虽然没有任何的注释。\n",
    "\n",
    "相比与没有使用函数的版本，这个程序更容易扩展和维护。如果以后需要打印其他设计，只需再次调用print_models（）即可。如果我们发现需要对代码进行修改，只需修改这些代码一次，就能影响所有调用该函数的地方：与必须分别修改程序的多个地方相比，这种修改的效率更高。\n",
    "\n",
    "这个程序还演示了这样的一种理念，即每个函数都应只负责一项具体的工作。第一个函数打印每个设计，而每第二个显示打印好的模型：这优于使用一个函数来完成两项工作。便携函数时，如果你发现它执行的任务太多，请尝试讲这些代码分到两个函数中。"
   ]
  },
  {
   "cell_type": "markdown",
   "metadata": {},
   "source": [
    "#### 3.5.4 传递任意数量的实参"
   ]
  },
  {
   "cell_type": "markdown",
   "metadata": {},
   "source": [
    "有时候，你预先不知道函数需要接受多少哥实参，好在python允许函数从调用语句中手机任意数量的实参。\n",
    "\n",
    "例如，来看一个制作比萨的函数，它需要接受很多配料，但你无法预先确定顾客要多少种配料。下面的函数只有一个形参*toppings ， 但不管调用语句提供多少实参，这个行参都将他们统统收入囊中："
   ]
  },
  {
   "cell_type": "code",
   "execution_count": 1,
   "metadata": {},
   "outputs": [
    {
     "name": "stdout",
     "output_type": "stream",
     "text": [
      "('pepperoni',)\n",
      "('mushrooms', 'green peppers', 'extra cheese')\n"
     ]
    }
   ],
   "source": [
    "def make_pizza(*toppings) :\n",
    "    \"\"\"打印顾客点的所有配料\"\"\"\n",
    "    print(toppings)\n",
    "\n",
    "make_pizza('pepperoni')\n",
    "make_pizza('mushrooms','green peppers','extra cheese')\n"
   ]
  },
  {
   "cell_type": "markdown",
   "metadata": {},
   "source": [
    "行参名*toppings中的星号让python创建一个名为topping的空元组,并将收到所有值都封装到这个元组中.函数体内的print语句通过生产输出证明Python能够处理使用一个值调用函数的情形,也能处理使用三个值来调用函数的情形."
   ]
  },
  {
   "cell_type": "markdown",
   "metadata": {},
   "source": [
    "现在,我们可以将这条print语句替换为一个循环,对配料列表进行遍历,并对顾客点的披萨进行描述:"
   ]
  },
  {
   "cell_type": "code",
   "execution_count": 3,
   "metadata": {},
   "outputs": [
    {
     "name": "stdout",
     "output_type": "stream",
     "text": [
      "\n",
      "Making a pizza with the following toppings:\n",
      "- pepperoni\n",
      "\n",
      "Making a pizza with the following toppings:\n",
      "- mushrooms\n",
      "- green peppers\n",
      "- extra cheese\n"
     ]
    }
   ],
   "source": [
    "def make_pizza(*toppings):\n",
    "    \"\"\"概述要制作的比萨\"\"\"\n",
    "    print(\"\\nMaking a pizza with the following toppings:\")\n",
    "    for topping in toppings:\n",
    "        print(\"- \" + topping)\n",
    "\n",
    "make_pizza('pepperoni')\n",
    "make_pizza('mushrooms','green peppers','extra cheese')\n",
    "\n",
    "    "
   ]
  },
  {
   "cell_type": "markdown",
   "metadata": {},
   "source": [
    "#### 3.5.5 结合使用位置实参和任意数量实参"
   ]
  },
  {
   "cell_type": "markdown",
   "metadata": {},
   "source": [
    "如果要让函数接受不同类型的实参,必须在函数定义中将接纳任何数量实参的形参放在最后.Python先匹配位置实参和关键字实参,再将余下的实参都收集到最后一个形参中.\n",
    "\n",
    "例如,如果前面的函数还需要一个便是披萨尺寸的实参,必须将该形参放在形参*topping的前面:\n"
   ]
  },
  {
   "cell_type": "code",
   "execution_count": 5,
   "metadata": {},
   "outputs": [
    {
     "name": "stdout",
     "output_type": "stream",
     "text": [
      "\n",
      "Makeing a 16-inch pizza with the following toppings:\n",
      "- pepperoni\n",
      "\n",
      "Makeing a 12-inch pizza with the following toppings:\n",
      "- mushrooms\n",
      "- green peppers\n",
      "- extra cheese\n"
     ]
    }
   ],
   "source": [
    "def make_pizza(size,*toppings):\n",
    "    \"\"\"概述要制作的比萨\"\"\"\n",
    "    print(\"\\nMakeing a \" + str(size) +\n",
    "         \"-inch pizza with the following toppings:\")\n",
    "    \n",
    "    for topping in toppings:\n",
    "        print(\"- \" + topping)\n",
    "\n",
    "        \n",
    "make_pizza(16,'pepperoni')\n",
    "make_pizza(12,'mushrooms','green peppers','extra cheese')\n"
   ]
  },
  {
   "cell_type": "markdown",
   "metadata": {},
   "source": [
    "基于上述函数定义,Python将收到的第一个值存储在形参size中,并将其他所有制都存储在元组toppings中.在函数调用中,首先制定表示比萨尺寸的实参,然后根据需要制定任意数量的配料.\n",
    "\n",
    "现在,每个披萨都有了尺寸和一系列配料,这些信息按正常的顺序打印出来了---首先是尺寸,然后是配料:"
   ]
  },
  {
   "cell_type": "markdown",
   "metadata": {},
   "source": [
    "#### 3.5.6 使用任意数量的关键字实参"
   ]
  },
  {
   "cell_type": "markdown",
   "metadata": {},
   "source": [
    "有时候,需要接受任意数量的实参,但预先不知道传递给函数的会是什么样的信息.在这种情况下,可将函数编写成能够接受任意数量的键--值对-- 调用语句提供了多少就接受多少.一个这样的示例是创建用户简介:你知道你讲收到有关用户的信息,但不确定会是什么样的信息.在下面的示例中,函数build_profile()接受名和姓,同时还接受任意数量的关键字实参:"
   ]
  },
  {
   "cell_type": "code",
   "execution_count": 9,
   "metadata": {},
   "outputs": [
    {
     "ename": "IndentationError",
     "evalue": "unindent does not match any outer indentation level (<tokenize>, line 10)",
     "output_type": "error",
     "traceback": [
      "\u001b[0;36m  File \u001b[0;32m\"<tokenize>\"\u001b[0;36m, line \u001b[0;32m10\u001b[0m\n\u001b[0;31m    return profile\u001b[0m\n\u001b[0m    ^\u001b[0m\n\u001b[0;31mIndentationError\u001b[0m\u001b[0;31m:\u001b[0m unindent does not match any outer indentation level\n"
     ]
    }
   ],
   "source": [
    "def build_profile(first,last,**user_info):\n",
    "    \"\"\"创建一个字典,其中包含我们知道的有关用户的一切\"\"\"\n",
    "    profile = {}\n",
    "    \n",
    "    profile['first_name'] = first\n",
    "    profile['last_name'] = last\n",
    "    \n",
    "     for key,value in user_info.items():\n",
    "            profile[key] = value\n",
    "        return profile\n",
    "    \n",
    "user_profile = build_profile('albert','einstein',\n",
    "                                location = 'princeton',\n",
    "                                field='physics')\n",
    "print(user_profile)"
   ]
  },
  {
   "cell_type": "code",
   "execution_count": null,
   "metadata": {},
   "outputs": [],
   "source": []
  },
  {
   "cell_type": "code",
   "execution_count": null,
   "metadata": {},
   "outputs": [],
   "source": []
  },
  {
   "cell_type": "code",
   "execution_count": null,
   "metadata": {},
   "outputs": [],
   "source": []
  },
  {
   "cell_type": "code",
   "execution_count": null,
   "metadata": {},
   "outputs": [],
   "source": []
  }
 ],
 "metadata": {
  "kernelspec": {
   "display_name": "Python 3",
   "language": "python",
   "name": "python3"
  },
  "language_info": {
   "codemirror_mode": {
    "name": "ipython",
    "version": 3
   },
   "file_extension": ".py",
   "mimetype": "text/x-python",
   "name": "python",
   "nbconvert_exporter": "python",
   "pygments_lexer": "ipython3",
   "version": "3.6.4"
  }
 },
 "nbformat": 4,
 "nbformat_minor": 2
}
